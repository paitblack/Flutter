{
 "cells": [
  {
   "cell_type": "markdown",
   "metadata": {},
   "source": [
    "### Functions \n",
    "\n",
    "String getFullName(String fName, String mName, String lName){  \n",
    "  return '$fName $mName $lName';  \n",
    "}  \n",
    "\n",
    "->  identical function  \n",
    "\n",
    "    Check whether two object references are to the same object.  \n",
    "\n",
    "        bool identical( Object? a, Object? b )  \n",
    "\n",
    "        var o = new Object();  \n",
    "        var isIdentical = identical(o, new Object()); // false, different objects.  \n",
    "        isIdentical = identical(o, o); // true, same object.  \n",
    "\n",
    "->  identityHashCode function  \n",
    "\n",
    "    Returns the value that the original Object.hashCode would return on this object, even if hashCode has been overridden.  \n",
    "\n",
    "        var identitySet = HashSet(equals: identical, hashCode: identityHashCode);  \n",
    "        var dt1 = DateTime.now();  \n",
    "        var dt2 = DateTime.fromMicrosecondsSinceEpoch(dt1.microsecondsSinceEpoch);  \n",
    "        assert(dt1 == dt2);  \n",
    "        identitySet.add(dt1);  \n",
    "        print(identitySet.contains(dt1)); // true  \n",
    "        print(identitySet.contains(dt2)); // false  \n",
    "\n",
    "->  print function  \n",
    "\n",
    "    Prints an object to the console.  \n",
    "\n",
    "        void print(Object? object) {  \n",
    "        String line = \"$object\";  \n",
    "        var toZone = printToZone;  \n",
    "        if (toZone == null) {  \n",
    "            printToConsole(line);  \n",
    "        } else {  \n",
    "            toZone(line);  \n",
    "        }  \n",
    "        }  \n"
   ]
  }
 ],
 "metadata": {
  "language_info": {
   "name": "python"
  }
 },
 "nbformat": 4,
 "nbformat_minor": 2
}
