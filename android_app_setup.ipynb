{
 "cells": [
  {
   "cell_type": "markdown",
   "metadata": {},
   "source": [
    "Scrcpy (https://github.com/Genymobile/scrcpy)  \n",
    "we will be using scrcpy to mirror a real android device on the screen  \n",
    "\n",
    "ADB(Android Debug Bridge)  \n",
    "brew install --cask android-platform-tools  \n",
    "\n",
    "The Android Debug Bridge (ADB) is a command-line tool that allows developers to communicate with Android devices or emulators. It is part of the Android SDK platform tools and is widely used for     debugging, testing, and interacting with Android devices.  \n",
    "\n",
    "USB Debugging  \n",
    "you will need to enable USB debugging to mirror your screen  \n",
    "\n",
    "Select Android device in VSCode  \n",
    "\n",
    "Disable screen sleeping : you can disable this feature so you do not have to turn the screen on all the time.  "
   ]
  }
 ],
 "metadata": {
  "language_info": {
   "name": "python"
  }
 },
 "nbformat": 4,
 "nbformat_minor": 2
}
