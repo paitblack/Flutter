{
 "cells": [
  {
   "cell_type": "markdown",
   "metadata": {},
   "source": [
    "-to upgrade flutter : flutter upgrade  \n",
    "\n",
    "-Go into the directory that you want to create the project in.  \n",
    "\n",
    "-command it : \"flutter create --org xxx.domain appname\"  \n",
    "\n",
    "\n",
    "\n",
    "Let's check out the project structure:  \n",
    "\n",
    "flutter cd appname  \n",
    "appname code .     -> it will open the vs code.  \n",
    "\n",
    "\n",
    "Detailed explanations of the folders and files.  \n",
    "\n",
    "Test folder : it is used to store test files for writing and organizing tests for your app. it ensures that your app's features work as expected.  \n",
    "\n",
    "Android and ios folders are the folders that are putting all the necessary files and folders that are required for your project to be hosting your flutter application on android or ios.    \n",
    "\n",
    "analysis_options.yaml : is used to configure the Dart analyzer, which helps you maintain code quality and consistency by identifying potential issues in your code. This file allows you to customize     linting  rules, enable or disable specific analyzer warnings or errors, and configure language-specific options.  \n",
    "\n",
    "pubspec.yaml : is a critical configuration file in Flutter and Dart projects. It defines metadata about your project, manages dependencies, and configures project-specific settings.  \n",
    "\n",
    "Firebase : Firebase is a platform developed by Google that provides a suite of tools and services to help developers build, improve, and scale their apps. It offers backend-as-a-service (BaaS) solutions    for both mobile and web applications, enabling developers to focus on building app functionality rather than managing infrastructure.  \n",
    "Key features  : database solutions , authentication, cloud functions, hosting, cloud storage, crashlytics, performance monitoring, firebase analytics, Firebase Cloud Messaging, Firebase App Distribution,   Firebase Test Lab  \n",
    "\n",
    "adding our dependencies :  \n",
    "\n",
    "appname flutter pub add firebase_core   # The core package required to integrate Firebase services into your Flutter app.  \n",
    "appname flutter pub add firebase_auth    # Supports email/password login, social logins (Google, Facebook, etc.), and phone number authentication.  \n",
    "appname flutter pub add cloud_firestore   # Allows you to store, read, and query data with real-time synchronization across clients.  \n",
    "appname flutter pub add firebase_analytics  # Helps you monitor which features users interact with the most or which screens are frequently visited.  \n",
    "\n",
    "\n",
    "\n",
    "\n",
    "\n"
   ]
  }
 ],
 "metadata": {
  "language_info": {
   "name": "python"
  }
 },
 "nbformat": 4,
 "nbformat_minor": 2
}
