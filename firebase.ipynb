{
 "cells": [
  {
   "cell_type": "markdown",
   "metadata": {},
   "source": [
    "Firebase Backend Setup  \n",
    "\n",
    "FlutterFire initialization  \n",
    "https://firebase.flutter.dev/docs/overview  \n",
    "\n",
    "Install FlutterFire CLI  \n",
    "dart pub global activate flutterfire_cli  \n",
    "\n",
    "What is Firebase CLI?  \n",
    "A CLI to help us interact with Firebase right from our terminal  \n",
    "\n",
    "Install or update Firebase CLI  \n",
    "\n",
    "Login/Logout  \n",
    "firebase login or firebase logout  \n",
    "\n",
    "appname firebase login  \n",
    "appname firebase logout  \n",
    "\n",
    "npm install -g firebase-tools  \n",
    "\n",
    "Configuring our backend  \n",
    "flutterfire configure  \n",
    "\n",
    "appname flutterfire configure  \n",
    "enter a project id  \n",
    "\n",
    "App IDs  \n",
    "Double check to see if app ids are set up correctly for iOS and Android  \n",
    "\n",
    "\n",
    "\n"
   ]
  }
 ],
 "metadata": {
  "language_info": {
   "name": "python"
  }
 },
 "nbformat": 4,
 "nbformat_minor": 2
}
