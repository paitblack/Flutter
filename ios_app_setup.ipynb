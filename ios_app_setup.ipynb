{
 "cells": [
  {
   "cell_type": "markdown",
   "metadata": {},
   "source": [
    "Developer account : in order to release the app for iOS and iPadOS you need a developer account.  \n",
    "\n",
    "Certificates and Profiles  \n",
    "Certificates authenticate the identity of the developer or app distributor. Two key types are used for iOS apps:  \n",
    "Development Certificate: For testing your app on a real device.  \n",
    "Distribution Certificate: For submitting your app to the App Store or using TestFlight.  \n",
    "\n",
    "Provisioning profiles link your app, developer account, and device. These are required to run your app on a physical device and deploy it.  \n",
    "Development Profile: Allows testing on specific devices.  \n",
    "Distribution Profile: Used for TestFlight or App Store deployment.  \n",
    "\n",
    "developer.apple.com/account  \n",
    "\n",
    "we need development certificate + production certificate + AppID  \n",
    "\n",
    "in order to debug on a real device we need a UUID to register for our porfile  \n",
    "\n",
    "We should now create a new dev profile and download and install it on our computer  \n",
    "We also need a production profile and need to download and install it  \n",
    "\n",
    "Set up profiles in Xcode project:  \n",
    "\n",
    "We need to tell Xcode about our profiles and certificates now.  \n",
    "\n",
    "vscode ios folder right click -> Reveal in Finder -> double click Runner.xcworkspace -> click on \"Show the procekt navigator(at the top left corner)\" -> choose your targets -> Signing & Capabilities ->   remove automatic signing -> Provisioning Profile -> appnameDev -> go to Release -> appnameProd  \n",
    "\n",
    "if you encounter with an error you need to delete last certificate from My Certificates which is at Keychain Access window.  \n",
    "\n",
    "Mirror iPhone screen : Use QuickTime Player to mirror iPhone screen on Mac.  "
   ]
  }
 ],
 "metadata": {
  "language_info": {
   "name": "python"
  }
 },
 "nbformat": 4,
 "nbformat_minor": 2
}
